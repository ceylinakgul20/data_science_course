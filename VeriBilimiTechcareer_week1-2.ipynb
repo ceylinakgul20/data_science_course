{
 "cells": [
  {
   "cell_type": "markdown",
   "id": "b9646dd4-8d50-493b-97ca-44078c723a27",
   "metadata": {},
   "source": [
    "# 1. hafta ödev"
   ]
  },
  {
   "cell_type": "code",
   "execution_count": null,
   "id": "18951d63-e966-4a40-bfc4-2a1946282c4d",
   "metadata": {},
   "outputs": [],
   "source": [
    "ad = input(\"adınızı giriniz:\")\n",
    "boy = float(input(\"metre cinsinden boyunuzu giriniz:\"))\n",
    "yas = int(input(\"yasınızı giriniz:\"))\n",
    "print(f\"Adınız {ad}, boyunuz {boy:.2f}, yaşınız {yas}'tir.\")\n"
   ]
  },
  {
   "cell_type": "code",
   "execution_count": 8,
   "id": "5d473e33-8943-489b-b3b0-345ab9c74dcb",
   "metadata": {},
   "outputs": [
    {
     "name": "stdin",
     "output_type": "stream",
     "text": [
      "matematik notunuzu giriniz: 21\n",
      "fizik notunuzu giriniz: 45\n",
      "kimya notunuzu giriniz: 99\n"
     ]
    },
    {
     "name": "stdout",
     "output_type": "stream",
     "text": [
      "Ortalamanız 55.0'dir'\n"
     ]
    }
   ],
   "source": [
    "matematik_not=int(input(\"matematik notunuzu giriniz:\"))\n",
    "fizik_not=int(input(\"fizik notunuzu giriniz:\"))\n",
    "kimya_not=int(input(\"kimya notunuzu giriniz:\"))\n",
    "ortalama=(matematik_not+fizik_not+kimya_not)/3\n",
    "print(f\"Ortalamanız {ortalama}'dir'\")\n"
   ]
  },
  {
   "cell_type": "code",
   "execution_count": 15,
   "id": "b53c832f-82df-422c-828a-02eb9ec128b5",
   "metadata": {},
   "outputs": [
    {
     "name": "stdout",
     "output_type": "stream",
     "text": [
      "değişken:elma\n",
      "ilk karakter:e\n",
      "son karakter:a\n",
      "ters hali:amle \n"
     ]
    }
   ],
   "source": [
    "degisken=\"elma\"\n",
    "ilk_karakter=degisken[0]\n",
    "son_karakter=degisken[-1]\n",
    "uzunluk=len(degisken)\n",
    "ters=degisken[::-1] #metin[start:stop:step]\n",
    "print(f\"değişken:{degisken}\\nilk karakter:{ilk_karakter}\\nson karakter:{son_karakter}\\nters hali:{ters} \")"
   ]
  },
  {
   "cell_type": "code",
   "execution_count": 19,
   "id": "b3992a34-9fdd-421e-abc2-c8c339548388",
   "metadata": {},
   "outputs": [
    {
     "name": "stdin",
     "output_type": "stream",
     "text": [
      "birinci sayıyı giriniz: 22\n",
      "ikinci sayıyı giriniz: 11\n"
     ]
    },
    {
     "name": "stdout",
     "output_type": "stream",
     "text": [
      "\n",
      "Toplama: 33.0\n",
      "Çıkarma: 11.0\n",
      "Çarpma: 242.0\n",
      "Bölme: 2.0\n",
      "Mod: 0.0\n"
     ]
    }
   ],
   "source": [
    "sayi1 = float(input(\"birinci sayıyı giriniz:\"))\n",
    "sayi2 = float(input(\"ikinci sayıyı giriniz:\"))\n",
    "toplama=sayi1+sayi2\n",
    "cikarma=sayi1-sayi2\n",
    "carpma=sayi1*sayi2\n",
    "bolme=sayi1/sayi2\n",
    "mod=sayi1%sayi2\n",
    "print(f\"\\nToplama: {toplama}\")\n",
    "print(f\"Çıkarma: {cikarma}\")\n",
    "print(f\"Çarpma: {carpma}\")\n",
    "print(f\"Bölme: {bolme}\")\n",
    "print(f\"Mod: {mod}\")\n"
   ]
  },
  {
   "cell_type": "code",
   "execution_count": 21,
   "id": "84f576dc-c79e-4190-80e1-d314b3a08f6b",
   "metadata": {},
   "outputs": [
    {
     "name": "stdin",
     "output_type": "stream",
     "text": [
      "notunuzu giriniz: 50\n"
     ]
    },
    {
     "name": "stdout",
     "output_type": "stream",
     "text": [
      "Geçtiniz\n"
     ]
    }
   ],
   "source": [
    "ortalama=float(input(\"notunuzu giriniz:\"))\n",
    "print(\"Geçtiniz\"*(ortalama>=50) + \"Kaldınız\"*(ortalama<50))\n"
   ]
  },
  {
   "cell_type": "code",
   "execution_count": 22,
   "id": "a3f7103c-0ef8-40ea-bffb-8bd45587d7db",
   "metadata": {},
   "outputs": [
    {
     "name": "stdin",
     "output_type": "stream",
     "text": [
      "yaşınızı giriniz: 22\n"
     ]
    },
    {
     "name": "stdout",
     "output_type": "stream",
     "text": [
      "Ehliyet alabilirsiniz\n"
     ]
    }
   ],
   "source": [
    "yas=float(input(\"yaşınızı giriniz:\"))\n",
    "print(\"Ehliyet alabilirsiniz\"*(ortalama>=18) + \"Ehliyet alamazsınız\"*(ortalama<18))"
   ]
  },
  {
   "cell_type": "code",
   "execution_count": 24,
   "id": "7b0a1f7b-4db2-495a-bbcf-f3f56a082a73",
   "metadata": {},
   "outputs": [
    {
     "name": "stdin",
     "output_type": "stream",
     "text": [
      "ürünün fiyatını giriniz: 100\n",
      "indirim oranını giriniz: 25\n"
     ]
    },
    {
     "name": "stdout",
     "output_type": "stream",
     "text": [
      "indirimli fiyat:75.0\n"
     ]
    }
   ],
   "source": [
    "fiyat=float(input(\"ürünün fiyatını giriniz:\"))\n",
    "indirim_oranı=float(input(\"indirim oranını giriniz:\"))\n",
    "indirimli_fiyat= fiyat-fiyat*indirim_oranı/100\n",
    "print(f\"indirimli fiyat:{indirimli_fiyat}\")\n"
   ]
  },
  {
   "cell_type": "code",
   "execution_count": 28,
   "id": "9f44316c-1103-4d92-8a0d-26874aa7f597",
   "metadata": {},
   "outputs": [
    {
     "name": "stdout",
     "output_type": "stream",
     "text": [
      "(a OR b) OR (a AND b) AND (a OR b): True\n"
     ]
    }
   ],
   "source": [
    "a=True\n",
    "b=False\n",
    "print(\"(a OR b) OR (a AND b) AND (a OR b):\",(a or b) or (a and b) and (a or b))"
   ]
  },
  {
   "cell_type": "code",
   "execution_count": 32,
   "id": "b350125b-0707-44ec-bde8-e8fa11c8a55f",
   "metadata": {},
   "outputs": [
    {
     "name": "stdin",
     "output_type": "stream",
     "text": [
      "ürünün fiyatlarını aralarında boşluk bırakarak giriniz: 100 100 100\n"
     ]
    },
    {
     "name": "stdout",
     "output_type": "stream",
     "text": [
      "ödeme tutarı= 270.0\n"
     ]
    }
   ],
   "source": [
    "fiyat1, fiyat2, fiyat3 = input(\"ürünün fiyatlarını aralarında boşluk bırakarak giriniz:\").split()\n",
    "fiyat1=float(fiyat1)\n",
    "fiyat2=float(fiyat2)\n",
    "fiyat3=float(fiyat3)\n",
    "toplam=fiyat1+fiyat2+fiyat3\n",
    "son_fiyat=(toplam>200)*.9*(toplam)+(toplam<=200)*(toplam)\n",
    "print(f\"ödeme tutarı= {son_fiyat}\")\n"
   ]
  },
  {
   "cell_type": "code",
   "execution_count": 40,
   "id": "260c6092-d980-41a3-a162-6d33863daa9e",
   "metadata": {},
   "outputs": [
    {
     "name": "stdin",
     "output_type": "stream",
     "text": [
      "doğduğunuz yılı giriniz: 2006\n"
     ]
    },
    {
     "name": "stdout",
     "output_type": "stream",
     "text": [
      "Yetişkinsiniz\n"
     ]
    }
   ],
   "source": [
    "dogum_yili=int(input(\"doğduğunuz yılı giriniz:\"))\n",
    "yas=2025-dogum_yili\n",
    "mesaj=(\"Çocuksunuz\"*(0<=yas<=12)+\"Ergensiniz\"*(13<=yas<=17)+\"Yetişkinsiniz\"*(yas>=18))\n",
    "print(f\"{mesaj}\")\n",
    "\n"
   ]
  },
  {
   "cell_type": "markdown",
   "id": "7c48a7d4-f86c-451d-a53c-7e7b2405849c",
   "metadata": {},
   "source": [
    "## 2. hafta ödev"
   ]
  },
  {
   "cell_type": "code",
   "execution_count": 12,
   "id": "7617c62b-9ee4-43c0-95b4-757885a72b5f",
   "metadata": {},
   "outputs": [
    {
     "name": "stdin",
     "output_type": "stream",
     "text": [
      "Bir sayı giriniz:  -31\n"
     ]
    },
    {
     "name": "stdout",
     "output_type": "stream",
     "text": [
      "Negatif Tek\n"
     ]
    }
   ],
   "source": [
    "sayi=int(input(\"bir sayı giriniz: \"))\n",
    "\n",
    "if sayi>0:\n",
    "    birinci=\"Pozitif\"\n",
    "else:\n",
    "    birinci=\"Negatif\"\n",
    "\n",
    "if sayi%2==0:\n",
    "    ikinci=\"Çift\"\n",
    "else:\n",
    "    ikinci=\"Tek\"\n",
    "\n",
    "if sayi==0:\n",
    "    print(\"Sıfır\")\n",
    "else:\n",
    "    print(f\"{birinci} {ikinci}\")"
   ]
  },
  {
   "cell_type": "code",
   "execution_count": 18,
   "id": "a31ca3f8-2515-4466-9a38-ad4efa75d569",
   "metadata": {},
   "outputs": [
    {
     "name": "stdin",
     "output_type": "stream",
     "text": [
      "bir kelime giriniz:  elma\n"
     ]
    },
    {
     "name": "stdout",
     "output_type": "stream",
     "text": [
      "elma->{'e': 1, 'l': 1, 'm': 1, 'a': 1}\n"
     ]
    }
   ],
   "source": [
    "kelime=input(\"bir kelime giriniz: \")\n",
    "harfler={}\n",
    "for harf in kelime:\n",
    "    harfler[harf]=harfler.get(harf,0)\n",
    "    harfler[harf]+=1\n",
    "print(f\"{kelime}->{harfler}\")\n"
   ]
  },
  {
   "cell_type": "code",
   "execution_count": 27,
   "id": "3f158ca8-9712-4d68-a61d-5cb7a676f744",
   "metadata": {},
   "outputs": [
    {
     "name": "stdin",
     "output_type": "stream",
     "text": [
      "Şifrenizi giriniz:  elma\n"
     ]
    },
    {
     "name": "stdout",
     "output_type": "stream",
     "text": [
      "Şifre en az 8 karakter olmalı\n",
      "Şifre en az 1 büyük harf içermeli\n",
      "Şifre en az 1 rakam içermeli\n"
     ]
    }
   ],
   "source": [
    "sifre=input(\"Şifrenizi giriniz: \")\n",
    "\n",
    "if len(sifre)<8:\n",
    "    print(\"Şifre en az 8 karakter olmalı\")\n",
    "\n",
    "if not any(harf.isupper() for harf in sifre):\n",
    "    print(\"Şifre en az 1 büyük harf içermeli\")\n",
    "\n",
    "if not any(harf.isdigit() for harf in sifre):\n",
    "    print(\"Şifre en az 1 rakam içermeli\")\n",
    "\n"
   ]
  },
  {
   "cell_type": "code",
   "execution_count": 29,
   "id": "0403e4de-1090-45b4-a0ce-adb5ed632253",
   "metadata": {},
   "outputs": [
    {
     "name": "stdout",
     "output_type": "stream",
     "text": [
      "15.0\n",
      "[25, 30, 18]\n"
     ]
    }
   ],
   "source": [
    "liste=[12, 4, 9, 25, 30, 7, 18]\n",
    "ortalama=sum(liste)/len(liste)\n",
    "buyuk_liste=[]\n",
    "for sayi in liste:\n",
    "    if sayi>ortalama:\n",
    "        buyuk_liste.append(sayi)\n",
    "print(ortalama)\n",
    "print(buyuk_liste)\n",
    "  "
   ]
  },
  {
   "cell_type": "code",
   "execution_count": 35,
   "id": "26dd1645-5e24-416d-b4ce-189602090bdf",
   "metadata": {},
   "outputs": [
    {
     "name": "stdout",
     "output_type": "stream",
     "text": [
      "*\n",
      "**\n",
      "***\n",
      "****\n",
      "*****\n"
     ]
    }
   ],
   "source": [
    "for i in range(1,6):\n",
    "    print(\"*\"*i)"
   ]
  },
  {
   "cell_type": "code",
   "execution_count": 50,
   "id": "101d7e2c-064f-44cb-a341-d6e4e85b8c92",
   "metadata": {},
   "outputs": [
    {
     "name": "stdin",
     "output_type": "stream",
     "text": [
      "sayı giriniz:  10\n",
      "sayı giriniz:  4\n",
      "sayı giriniz:  3\n",
      "sayı giriniz:  2\n",
      "sayı giriniz:  0\n"
     ]
    },
    {
     "name": "stdout",
     "output_type": "stream",
     "text": [
      "Girilen tüm sayıların toplamı 19 ve ortalaması 3.8\n"
     ]
    }
   ],
   "source": [
    "toplam=0\n",
    "sayilar=[]\n",
    "while True:\n",
    "    sayi=int(input(\"sayı giriniz: \"))\n",
    "    sayilar.append(sayi)\n",
    "    toplam+=sayi\n",
    "    ortalama=toplam/len(sayilar)\n",
    "    if sayi==0:\n",
    "        break\n",
    "print(f\"Girilen tüm sayıların toplamı {toplam} ve ortalaması {ortalama}\")"
   ]
  },
  {
   "cell_type": "code",
   "execution_count": 53,
   "id": "a73965cb-d34d-416c-a0b5-8f563f7e462f",
   "metadata": {},
   "outputs": [
    {
     "name": "stdin",
     "output_type": "stream",
     "text": [
      "bir kelime giriniz: kayak\n"
     ]
    },
    {
     "name": "stdout",
     "output_type": "stream",
     "text": [
      "kayak->Palindrom\n"
     ]
    }
   ],
   "source": [
    "kelime=input(\"bir kelime giriniz:\")\n",
    "ters = kelime[::-1] \n",
    "if kelime==ters:\n",
    "    print(f\"{kelime}->Palindrom\")\n",
    "else:\n",
    "    print(f\"{kelime}->Değil\")"
   ]
  },
  {
   "cell_type": "code",
   "execution_count": 64,
   "id": "5e9663e9-007a-487f-ae67-2f20ea055d8e",
   "metadata": {},
   "outputs": [
    {
     "name": "stdout",
     "output_type": "stream",
     "text": [
      "[225, 900, 2025, 3600, 5625, 8100]\n"
     ]
    }
   ],
   "source": [
    "kareler=[]\n",
    "for sayi in range(1,101):\n",
    "    if (sayi%5==0) and (sayi%3==0):\n",
    "        sayi=sayi*sayi\n",
    "        kareler.append(sayi)\n",
    "print(f\"{kareler}\")\n",
    "    "
   ]
  },
  {
   "cell_type": "code",
   "execution_count": 74,
   "id": "10d808b7-4262-4672-b993-b38945c3de4f",
   "metadata": {},
   "outputs": [
    {
     "name": "stdin",
     "output_type": "stream",
     "text": [
      "bir cümle yazınız: nasılsın ne yapıyorsun\n"
     ]
    },
    {
     "name": "stdout",
     "output_type": "stream",
     "text": [
      "Nasılsın Ne Yapıyorsun\n"
     ]
    }
   ],
   "source": [
    "cumle=input(\"bir cümle yazınız:\")\n",
    "kelimeler=cumle.split()\n",
    "buyuk=[kelime.capitalize() for kelime in kelimeler]\n",
    "yeni_cumle=\" \".join(buyuk)\n",
    "print(yeni_cumle)\n"
   ]
  },
  {
   "cell_type": "code",
   "execution_count": 80,
   "id": "62899e80-f896-46b8-85e5-51aa103ec7f7",
   "metadata": {},
   "outputs": [
    {
     "name": "stdin",
     "output_type": "stream",
     "text": [
      "Film için yorumunuzu yazın: Iyi olmuş \n",
      "Film için yorumunuzu yazın: iyi değildi\n",
      "Film için yorumunuzu yazın: kötü\n",
      "Film için yorumunuzu yazın: çok güzeldi bir daha izlerim\n",
      "Film için yorumunuzu yazın: güzel\n"
     ]
    },
    {
     "name": "stdout",
     "output_type": "stream",
     "text": [
      "Toplam yorum sayısı:5\n",
      "'iyi' geçen yorum sayısı:2\n",
      "En uzun yorum:çok güzeldi bir daha izlerim\n",
      "En kısa yorum:kötü\n",
      "Ortalama uzunluk:11.6\n"
     ]
    }
   ],
   "source": [
    "yorum_listesi=[]\n",
    "for i in range(1,6):\n",
    "    yorum=input(\"Film için yorumunuzu yazın:\")\n",
    "    yorum_listesi.append(yorum)\n",
    "karakter_sayisi=[len(yorum) for yorum in yorum_listesi]\n",
    "\n",
    "toplam_yorum = len(yorum_listesi)\n",
    "\n",
    "iyi_kelimesi=0\n",
    "for yorum in yorum_listesi:\n",
    "    if \"iyi\" in yorum.lower():\n",
    "        iyi_kelimesi+=1\n",
    "en_uzun_yorum=yorum_listesi[0]\n",
    "for yorum in yorum_listesi:\n",
    "    if len(yorum) > len(en_uzun_yorum):\n",
    "        en_uzun_yorum = yorum\n",
    "en_kisa_yorum=yorum_listesi[0]\n",
    "for yorum in yorum_listesi:\n",
    "    if len(yorum) < len(en_kisa_yorum):\n",
    "        en_kisa_yorum = yorum\n",
    "ortalama_uzunluk = sum(karakter_sayisi) / len(karakter_sayisi)\n",
    "\n",
    "#en_uzun_yorum = max(yorum_listesi, key=len)\n",
    "#en_kisa_yorum = min(yorum_listesi, key=len)\n",
    "print(f\"Toplam yorum sayısı:{toplam_yorum}\")\n",
    "print(f\"'iyi' geçen yorum sayısı:{iyi_kelimesi}\")\n",
    "print(f\"En uzun yorum:{en_uzun_yorum}\")\n",
    "print(f\"En kısa yorum:{en_kisa_yorum}\")\n",
    "print(f\"Ortalama uzunluk:{ortalama_uzunluk}\")\n"
   ]
  },
  {
   "cell_type": "code",
   "execution_count": null,
   "id": "f9b7bd0f-9bce-4726-9957-43d8e05687f4",
   "metadata": {},
   "outputs": [],
   "source": []
  }
 ],
 "metadata": {
  "kernelspec": {
   "display_name": "Python 3 (ipykernel)",
   "language": "python",
   "name": "python3"
  },
  "language_info": {
   "codemirror_mode": {
    "name": "ipython",
    "version": 3
   },
   "file_extension": ".py",
   "mimetype": "text/x-python",
   "name": "python",
   "nbconvert_exporter": "python",
   "pygments_lexer": "ipython3",
   "version": "3.13.5"
  }
 },
 "nbformat": 4,
 "nbformat_minor": 5
}
