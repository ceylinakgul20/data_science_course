{
 "cells": [
  {
   "cell_type": "markdown",
   "id": "98f06a3a-185d-457f-90b1-0e68744e2e10",
   "metadata": {},
   "source": [
    "# week-3"
   ]
  },
  {
   "cell_type": "code",
   "execution_count": 9,
   "id": "56f309e9-86fa-4c46-b9e2-3a27436c5fd8",
   "metadata": {},
   "outputs": [
    {
     "name": "stdout",
     "output_type": "stream",
     "text": [
      "maksimum not:100 ve minimum not:76\n",
      "\n",
      "sıralı liste: [76, 85, 92, 100]\n"
     ]
    }
   ],
   "source": [
    "notlar = [85, 92, 76, 92, 100, 76, 85, 92]\n",
    "notlar = set(notlar)\n",
    "max_not = max(notlar)\n",
    "min_not = min(notlar)\n",
    "sorted_list = sorted(notlar)\n",
    "print(f\"maksimum not:{max_not} ve minimum not:{min_not}\\n\")\n",
    "print(f\"sıralı liste: {sorted(notlar)}\")"
   ]
  },
  {
   "cell_type": "code",
   "execution_count": 26,
   "id": "67367071-b0ff-4442-a554-ef65275e2fc2",
   "metadata": {},
   "outputs": [
    {
     "name": "stdout",
     "output_type": "stream",
     "text": [
      "Bu sayı bir Armstrong sayısı değildir.\n",
      "Bu sayı bir Armstrong sayısıdır.\n"
     ]
    }
   ],
   "source": [
    "def IsArmstrong(sayi):\n",
    "    toplam=0\n",
    "    s=str(sayi)\n",
    "    for i in range(len(s)):\n",
    "        toplam += int(s[i])**3\n",
    "    if toplam==sayi:\n",
    "        print(\"Bu sayı bir Armstrong sayısıdır.\")\n",
    "    else:\n",
    "        print(\"Bu sayı bir Armstrong sayısı değildir.\")\n",
    "IsArmstrong(245)  \n",
    "IsArmstrong(153)"
   ]
  },
  {
   "cell_type": "code",
   "execution_count": 37,
   "id": "06715b65-9c89-4473-968a-79f0173f6f36",
   "metadata": {},
   "outputs": [
    {
     "name": "stdout",
     "output_type": "stream",
     "text": [
      "Ortak diller:{'Python', 'SQL'}\n",
      "Sadece A’da olan diller:{'R', 'Java'}\n",
      "İki kümenin birleşimi:['C++', 'Java', 'JavaScript', 'Python', 'R', 'SQL']\n"
     ]
    }
   ],
   "source": [
    "A = {\"Python\", \"R\", \"SQL\", \"Java\"}\n",
    "B = {\"C++\", \"Python\", \"JavaScript\", \"SQL\"}\n",
    "intersection = A.intersection(B)\n",
    "difference = A.difference(B)\n",
    "union = A.union(B)\n",
    "union = list(union)\n",
    "union = sorted(union)\n",
    "print(f\"Ortak diller:{intersection}\\nSadece A’da olan diller:{difference}\\nİki kümenin birleşimi:{union}\")"
   ]
  },
  {
   "cell_type": "code",
   "execution_count": 46,
   "id": "bbbd8310-3c8b-459b-be30-de3e6ccb428d",
   "metadata": {},
   "outputs": [
    {
     "name": "stdout",
     "output_type": "stream",
     "text": [
      "[52, 26, 59, 11, 88, 98, 7, 81, 59, 83]\n",
      "Standart sapma =32.49\n",
      "ortalama=56.4\n"
     ]
    }
   ],
   "source": [
    "import random\n",
    "import statistics\n",
    "sayilar=[]\n",
    "for i in range(10):\n",
    "    sayilar.append(random.randint(1, 100))\n",
    "ortalama = statistics.mean(sayilar)\n",
    "standart_sapma = statistics.stdev(sayilar)\n",
    "print(f\"{sayilar}\\nStandart sapma ={standart_sapma:.2f}\\nortalama={ortalama}\")"
   ]
  },
  {
   "cell_type": "code",
   "execution_count": null,
   "id": "1a7df006-4125-425b-beba-de62e582f234",
   "metadata": {},
   "outputs": [],
   "source": [
    "def kelime_sayacı(metin):    \n",
    "    kelimeler = metin.split()    \n",
    "    en_uzun_kelime = max(kelimeler, key=len)      \n",
    "    \n",
    "    # en sık geçen kelimeyi bulmak için sözlük kullanabiliriz\n",
    "    sayac={}\n",
    "    for kelime in kelimeler:\n",
    "        if kelime in sayac:\n",
    "            sayac[kelime]+=1\n",
    "        else:\n",
    "            sayac[kelime] =1 #kelime ilk kez geldiği için değeri 1 yapıyorsun\n",
    "    \n",
    "    en_sık_gecen_kelime= max(sayac, key=sayac.get) # sözlükte kac kez gectigine bakarak maximumunu bulur\n",
    "    en_sık_gecen_kelime_sayisi = sayac[en_sık_gecen_kelime]\n",
    "    return len(kelimeler), en_uzun_kelime, en_sık_gecen_kelime, en_sık_gecen_kelime_sayisi\n",
    "\n",
    "sonuc=kelime_sayacı(\"aaaa ne yapıyorsun nerelerdeydin hiç görüşemedik valla arada yaz ne yapıyorsun nasıl gidiyor tamam mı?\")\n",
    "print(sonuc)"
   ]
  },
  {
   "cell_type": "raw",
   "id": "45caaf28-8b09-42e9-baa9-f8d94af27764",
   "metadata": {},
   "source": [
    "map() fonksiyonu, verilen bir iterable üzerinde belirtilen bir işlemi her elemana uygulayan ve bu işlemlerin sonuçlarını yeni bir iterable olarak döndüren bir fonksiyondur.\n",
    "numbers = [1, 2, 3, 4, 5]\n",
    "squared_numbers = list(map(lambda x: x**2, numbers))\n",
    "\n",
    "filter() fonksiyonu, verilen bir iterable üzerinde belirtilen bir koşulu sağlayan elemanları filtreleyip yeni bir iterable olarak döndüren bir fonksiyondur.\n",
    "numbers = [1, 2, 3, 4, 5]\n",
    "even_numbers = list(filter(lambda x: x%2 == 0, numbers))\n",
    "\n",
    "max(): max(iterable, key=...) şeklinde yazılır key kısmına neye göre max bulunacağı yazılır\n",
    "string_list = [\"Geeks\", \"for\", \"Geek\"]\n",
    "max_val = max(string_list, key=len)\n",
    "print(max_val)"
   ]
  },
  {
   "cell_type": "code",
   "execution_count": 68,
   "id": "3620b1aa-368d-459e-b63f-a6517afa7237",
   "metadata": {},
   "outputs": [
    {
     "name": "stdout",
     "output_type": "stream",
     "text": [
      "[12, 18, 24, 16]\n",
      "[576, 324, 256, 144, 49, 25, 9]\n"
     ]
    }
   ],
   "source": [
    "sayilar = [5, 12, 7, 18, 24, 3, 16]\n",
    "cift_sayilar = list(filter(lambda x: x%2==0, sayilar))\n",
    "print(cift_sayilar)\n",
    "sayilarin_kareleri = list(map(lambda x: x**2, sayilar))\n",
    "print(sorted(sayilarin_kareleri, reverse=True ))"
   ]
  },
  {
   "cell_type": "code",
   "execution_count": 72,
   "id": "3341e481-8133-456f-a9f4-2d03aede61e4",
   "metadata": {},
   "outputs": [
    {
     "name": "stdout",
     "output_type": "stream",
     "text": [
      "['veri', 'bilim', 'analiz', 'python', 'yapayzeka']\n",
      "['veri', 'bilim', 'analiz', 'python', 'yapayzeka']\n"
     ]
    }
   ],
   "source": [
    "# sorted(iterable, key=None, reverse=False): key: len,abs gibi neye göre sıraladığı\n",
    "kelimeler = [\"veri\", \"bilim\", \"analiz\", \"yapayzeka\", \"python\"]\n",
    "yeni_kelimeler = sorted(kelimeler, key=len, reverse=False)\n",
    "print(yeni_kelimeler)\n",
    "#OR\n",
    "sirali_kelimeler= sorted(kelimeler, key=lambda x: len(x))\n",
    "print(sirali_kelimeler)  "
   ]
  },
  {
   "cell_type": "code",
   "execution_count": 91,
   "id": "f6a5087f-e5e5-48f6-bd87-e01b72783ad8",
   "metadata": {},
   "outputs": [
    {
     "data": {
      "text/plain": [
       "37"
      ]
     },
     "execution_count": 91,
     "metadata": {},
     "output_type": "execute_result"
    }
   ],
   "source": [
    "# isdigit()\n",
    "def isDigit(girdi):\n",
    "    rakamlar=[]\n",
    "    for rakam in girdi:\n",
    "        if rakam.isdigit() == True:\n",
    "            rakamlar.append(int(rakam))\n",
    "    toplam=sum(rakamlar)\n",
    "    return toplam\n",
    "isDigit(\"fdg67e1rg8w87qewrtwe\")"
   ]
  },
  {
   "cell_type": "code",
   "execution_count": 97,
   "id": "cf248824-2831-4067-8ac0-947949b1f98c",
   "metadata": {},
   "outputs": [
    {
     "name": "stdout",
     "output_type": "stream",
     "text": [
      "Dizi=[14 35 39 38 31 45 31 32 25 48],\n",
      "Ortalama:33.8,Standart Sapma:9.282241108697834,En büyük değer:48\n"
     ]
    }
   ],
   "source": [
    "import numpy as np\n",
    "dizi = np.random.randint(1, 51, size=10)\n",
    "ortalama = np.mean(dizi)\n",
    "standart_sapma = np.std(dizi)\n",
    "max_deger = np.max(dizi)\n",
    "print(f\"Dizi={dizi},\\nOrtalama:{ortalama},Standart Sapma:{standart_sapma},En büyük değer:{max_deger}\")"
   ]
  },
  {
   "cell_type": "code",
   "execution_count": 99,
   "id": "baa29ff9-2026-4806-af81-125d4d2cfef2",
   "metadata": {},
   "outputs": [
    {
     "name": "stdout",
     "output_type": "stream",
     "text": [
      "Matris=[[0.77897787 0.27059745 0.69265556 0.70490118 0.80450724]\n",
      " [0.01833198 0.49323337 0.40903107 0.1423999  0.712541  ]\n",
      " [0.30737923 0.38629807 0.92864688 0.31209158 0.28146256]\n",
      " [0.37269521 0.09284385 0.54815656 0.80169798 0.05154958]\n",
      " [0.9076464  0.36400854 0.20490667 0.8088822  0.97635178]]\n",
      "Sütun ortalamaları=[0.47700614 0.32139626 0.55667935 0.55399457 0.56528243]\n",
      "Binary matris=[[1 0 1 1 1]\n",
      " [0 0 0 0 1]\n",
      " [0 0 1 0 0]\n",
      " [0 0 1 1 0]\n",
      " [1 0 0 1 1]]\n"
     ]
    }
   ],
   "source": [
    "import numpy as np\n",
    "matris = np.random.rand(5, 5)\n",
    "sutun_ortalamalari = np.mean(matris, axis=0)\n",
    "binary_matris = np.where(matris > 0.5, 1, 0)\n",
    "print(f\"Matris={matris}\\nSütun ortalamaları={sutun_ortalamalari}\\nBinary matris={binary_matris}\")\n"
   ]
  },
  {
   "cell_type": "code",
   "execution_count": null,
   "id": "7652396a-ad42-459a-ad78-aa44f29694f4",
   "metadata": {},
   "outputs": [],
   "source": []
  }
 ],
 "metadata": {
  "kernelspec": {
   "display_name": "Python 3 (ipykernel)",
   "language": "python",
   "name": "python3"
  },
  "language_info": {
   "codemirror_mode": {
    "name": "ipython",
    "version": 3
   },
   "file_extension": ".py",
   "mimetype": "text/x-python",
   "name": "python",
   "nbconvert_exporter": "python",
   "pygments_lexer": "ipython3",
   "version": "3.13.5"
  }
 },
 "nbformat": 4,
 "nbformat_minor": 5
}
