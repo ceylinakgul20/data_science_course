{
 "cells": [
  {
   "cell_type": "code",
   "execution_count": 1,
   "id": "4a64b628-fd30-4280-ae11-944d6c5a1e35",
   "metadata": {},
   "outputs": [
    {
     "name": "stdout",
     "output_type": "stream",
     "text": [
      "[[38 97 99  8 60]\n",
      " [17 51 81 13 54]\n",
      " [98 12 88 93 82]\n",
      " [16 70 23 56 89]\n",
      " [64 28 25 38 55]]\n",
      "\n",
      "Matrisin ortalaması: 54.20\n",
      "Matrisin standart sapması: 30.33\n",
      "Matrisin varyansı: 919.76\n",
      "\n",
      "Matristeki en büyük değer: 99\n",
      "Matristeki en küçük değer: 8\n",
      "\n",
      "Köşegendeki elemanların toplamı: 288\n"
     ]
    }
   ],
   "source": [
    "import numpy as np\n",
    "matris = np.random.randint(0, 101, size=(5, 5))\n",
    "print(matris)\n",
    "\n",
    "ortalama = np.mean(matris)\n",
    "standart_sapma = np.std(matris)\n",
    "varyans = np.var(matris)\n",
    "\n",
    "print(f\"\\nMatrisin ortalaması: {ortalama:.2f}\")\n",
    "print(f\"Matrisin standart sapması: {standart_sapma:.2f}\")\n",
    "print(f\"Matrisin varyansı: {varyans:.2f}\")\n",
    "\n",
    "en_buyuk_deger = np.max(matris)\n",
    "en_kucuk_deger = np.min(matris)\n",
    "\n",
    "print(f\"\\nMatristeki en büyük değer: {en_buyuk_deger}\")\n",
    "print(f\"Matristeki en küçük değer: {en_kucuk_deger}\")\n",
    "\n",
    "kosegen_toplami = np.trace(matris)\n",
    "\n",
    "print(f\"\\nKöşegendeki elemanların toplamı: {kosegen_toplami}\")"
   ]
  },
  {
   "cell_type": "code",
   "execution_count": 3,
   "id": "ef5c5b5d-f279-4f1c-acd9-67906144a825",
   "metadata": {},
   "outputs": [
    {
     "name": "stdout",
     "output_type": "stream",
     "text": [
      "İlk 10 puan: [65.28754982 73.02656743 69.12797625 59.0319341  58.98168984 92.71918938\n",
      " 62.58938578 82.44509066 63.18864833 94.98586345]\n",
      "\n",
      "Ortalama: 69.77\n",
      "Medyan: 70.22\n",
      "Standart Sapma: 14.60\n",
      "\n",
      "50'den düşük alan öğrenci sayısı: 88\n"
     ]
    }
   ],
   "source": [
    "sinav_puanlari = np.random.normal(70, 15, 1000)\n",
    "sinav_puanlari = np.clip(sinav_puanlari, 0, 100)\n",
    "#örnek veriler\n",
    "print(\"İlk 10 puan:\",sinav_puanlari[:10])\n",
    "\n",
    "ortalama = np.mean(sinav_puanlari)\n",
    "medyan = np.median(sinav_puanlari)\n",
    "standart_sapma = np.std(sinav_puanlari)\n",
    "\n",
    "print(f\"\\nOrtalama: {ortalama:.2f}\")\n",
    "print(f\"Medyan: {medyan:.2f}\")\n",
    "print(f\"Standart Sapma: {standart_sapma:.2f}\")\n",
    "\n",
    "dusuk_puanlilar = sinav_puanlari < 50\n",
    "dusuk_puanli_ogrenci_sayisi = np.sum(dusuk_puanlilar)\n",
    "print(f\"\\n50'den düşük alan öğrenci sayısı: {dusuk_puanli_ogrenci_sayisi}\")\n",
    "      "
   ]
  },
  {
   "cell_type": "code",
   "execution_count": 23,
   "id": "e1dbcb9c-8a2a-446e-873f-617e2d753ed2",
   "metadata": {},
   "outputs": [
    {
     "name": "stdout",
     "output_type": "stream",
     "text": [
      "Oluşturulan DataFrame:\n",
      "   Öğrenci  Yaş       Bölüm  Matematik  Fizik  Kimya\n",
      "0     Ali   20  Bilgisayar         70     65     80\n",
      "1    Ayşe   21       Fizik         60     75     85\n",
      "2  Mehmet   19       Kimya         80     70     65\n",
      "3  Zeynep   22  Bilgisayar         90     85     95\n",
      "4   Ahmet   20       Fizik         55     60     70\n",
      "\n",
      "Her dersin ortalama puanları:\n",
      " Matematik    71.0\n",
      "Fizik        71.0\n",
      "Kimya        79.0\n",
      "dtype: float64\n",
      "\n",
      "En yüksek matematik notunu alan öğrenci: Zeynep\n",
      "\n",
      "Ortalama not sütunu eklenmiş DataFrame:\n",
      "   Öğrenci  Yaş       Bölüm  Matematik  Fizik  Kimya   Ortalama\n",
      "0     Ali   20  Bilgisayar         70     65     80  71.666667\n",
      "1    Ayşe   21       Fizik         60     75     85  73.333333\n",
      "2  Mehmet   19       Kimya         80     70     65  71.666667\n",
      "3  Zeynep   22  Bilgisayar         90     85     95  90.000000\n",
      "4   Ahmet   20       Fizik         55     60     70  61.666667\n",
      "\n",
      "Bölümlere göre ortalama başarılar:\n",
      "             Matematik  Fizik  Kimya   Ortalama\n",
      "Bölüm                                         \n",
      "Bilgisayar       80.0   75.0   87.5  80.833333\n",
      "Fizik            57.5   67.5   77.5  67.500000\n",
      "Kimya            80.0   70.0   65.0  71.666667\n",
      "\n",
      "Ortalaması 70'in üzerinde olan öğrenciler:\n",
      "   Öğrenci  Yaş       Bölüm  Matematik  Fizik  Kimya   Ortalama\n",
      "0     Ali   20  Bilgisayar         70     65     80  71.666667\n",
      "1    Ayşe   21       Fizik         60     75     85  73.333333\n",
      "2  Mehmet   19       Kimya         80     70     65  71.666667\n",
      "3  Zeynep   22  Bilgisayar         90     85     95  90.000000\n"
     ]
    }
   ],
   "source": [
    "import pandas as pd\n",
    "veri = {\n",
    "    'Öğrenci': ['Ali', 'Ayşe', 'Mehmet', 'Zeynep', 'Ahmet'],\n",
    "    'Yaş': [20, 21, 19, 22, 20],\n",
    "    'Bölüm': ['Bilgisayar', 'Fizik', 'Kimya', 'Bilgisayar', 'Fizik'],\n",
    "    'Matematik': [70, 60, 80, 90, 55],\n",
    "    'Fizik': [65, 75, 70, 85, 60],\n",
    "    'Kimya': [80, 85, 65, 95, 70]\n",
    "}\n",
    "df = pd.DataFrame(veri)\n",
    "\n",
    "print(\"Oluşturulan DataFrame:\\n\", df)\n",
    "\n",
    "ortalama_puanlar = df[['Matematik', 'Fizik', 'Kimya']].mean()\n",
    "\n",
    "print(\"\\nHer dersin ortalama puanları:\\n\",ortalama_puanlar )\n",
    "\n",
    "en_yuksek_matematik = df[df['Matematik'] == df['Matematik'].max()]['Öğrenci'].iloc[0]\n",
    "print(\"\\nEn yüksek matematik notunu alan öğrenci:\",en_yuksek_matematik)\n",
    "\n",
    "df['Ortalama'] = df[['Matematik', 'Fizik', 'Kimya']].mean(axis=1)\n",
    "print(\"\\nOrtalama not sütunu eklenmiş DataFrame:\\n\",df)\n",
    "\n",
    "bolumlere_gore_ortalama = df.groupby('Bölüm')[['Matematik', 'Fizik', 'Kimya', 'Ortalama']].mean()\n",
    "print(\"\\nBölümlere göre ortalama başarılar:\\n\",bolumlere_gore_ortalama)\n",
    "\n",
    "basarili_ogrenciler = df[df['Ortalama'] > 70]\n",
    "print(\"\\nOrtalaması 70'in üzerinde olan öğrenciler:\\n\",basarili_ogrenciler)\n"
   ]
  },
  {
   "cell_type": "code",
   "execution_count": null,
   "id": "fb3646da-7580-41d8-87f8-b072642c5cc4",
   "metadata": {},
   "outputs": [],
   "source": []
  }
 ],
 "metadata": {
  "kernelspec": {
   "display_name": "Python 3 (ipykernel)",
   "language": "python",
   "name": "python3"
  },
  "language_info": {
   "codemirror_mode": {
    "name": "ipython",
    "version": 3
   },
   "file_extension": ".py",
   "mimetype": "text/x-python",
   "name": "python",
   "nbconvert_exporter": "python",
   "pygments_lexer": "ipython3",
   "version": "3.13.5"
  }
 },
 "nbformat": 4,
 "nbformat_minor": 5
}
