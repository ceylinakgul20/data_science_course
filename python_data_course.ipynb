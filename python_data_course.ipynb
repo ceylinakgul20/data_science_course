{
 "cells": [
  {
   "cell_type": "markdown",
   "id": "b9646dd4-8d50-493b-97ca-44078c723a27",
   "metadata": {},
   "source": [
    "# 1. hafta ödev"
   ]
  },
  {
   "cell_type": "code",
   "execution_count": null,
   "id": "18951d63-e966-4a40-bfc4-2a1946282c4d",
   "metadata": {},
   "outputs": [],
   "source": [
    "ad = input(\"adınızı giriniz:\")\n",
    "boy = float(input(\"metre cinsinden boyunuzu giriniz:\"))\n",
    "yas = int(input(\"yasınızı giriniz:\"))\n",
    "print(f\"Adınız {ad}, boyunuz {boy:.2f}, yaşınız {yas}'tir.\")\n"
   ]
  },
  {
   "cell_type": "code",
   "execution_count": 8,
   "id": "5d473e33-8943-489b-b3b0-345ab9c74dcb",
   "metadata": {},
   "outputs": [
    {
     "name": "stdin",
     "output_type": "stream",
     "text": [
      "matematik notunuzu giriniz: 21\n",
      "fizik notunuzu giriniz: 45\n",
      "kimya notunuzu giriniz: 99\n"
     ]
    },
    {
     "name": "stdout",
     "output_type": "stream",
     "text": [
      "Ortalamanız 55.0'dir'\n"
     ]
    }
   ],
   "source": [
    "matematik_not=int(input(\"matematik notunuzu giriniz:\"))\n",
    "fizik_not=int(input(\"fizik notunuzu giriniz:\"))\n",
    "kimya_not=int(input(\"kimya notunuzu giriniz:\"))\n",
    "ortalama=(matematik_not+fizik_not+kimya_not)/3\n",
    "print(f\"Ortalamanız {ortalama}'dir'\")\n"
   ]
  },
  {
   "cell_type": "code",
   "execution_count": 15,
   "id": "b53c832f-82df-422c-828a-02eb9ec128b5",
   "metadata": {},
   "outputs": [
    {
     "name": "stdout",
     "output_type": "stream",
     "text": [
      "değişken:elma\n",
      "ilk karakter:e\n",
      "son karakter:a\n",
      "ters hali:amle \n"
     ]
    }
   ],
   "source": [
    "degisken=\"elma\"\n",
    "ilk_karakter=degisken[0]\n",
    "son_karakter=degisken[-1]\n",
    "uzunluk=len(degisken)\n",
    "ters=degisken[::-1] #metin[start:stop:step]\n",
    "print(f\"değişken:{degisken}\\nilk karakter:{ilk_karakter}\\nson karakter:{son_karakter}\\nters hali:{ters} \")"
   ]
  },
  {
   "cell_type": "code",
   "execution_count": 19,
   "id": "b3992a34-9fdd-421e-abc2-c8c339548388",
   "metadata": {},
   "outputs": [
    {
     "name": "stdin",
     "output_type": "stream",
     "text": [
      "birinci sayıyı giriniz: 22\n",
      "ikinci sayıyı giriniz: 11\n"
     ]
    },
    {
     "name": "stdout",
     "output_type": "stream",
     "text": [
      "\n",
      "Toplama: 33.0\n",
      "Çıkarma: 11.0\n",
      "Çarpma: 242.0\n",
      "Bölme: 2.0\n",
      "Mod: 0.0\n"
     ]
    }
   ],
   "source": [
    "sayi1 = float(input(\"birinci sayıyı giriniz:\"))\n",
    "sayi2 = float(input(\"ikinci sayıyı giriniz:\"))\n",
    "toplama=sayi1+sayi2\n",
    "cikarma=sayi1-sayi2\n",
    "carpma=sayi1*sayi2\n",
    "bolme=sayi1/sayi2\n",
    "mod=sayi1%sayi2\n",
    "print(f\"\\nToplama: {toplama}\")\n",
    "print(f\"Çıkarma: {cikarma}\")\n",
    "print(f\"Çarpma: {carpma}\")\n",
    "print(f\"Bölme: {bolme}\")\n",
    "print(f\"Mod: {mod}\")\n"
   ]
  },
  {
   "cell_type": "code",
   "execution_count": 21,
   "id": "84f576dc-c79e-4190-80e1-d314b3a08f6b",
   "metadata": {},
   "outputs": [
    {
     "name": "stdin",
     "output_type": "stream",
     "text": [
      "notunuzu giriniz: 50\n"
     ]
    },
    {
     "name": "stdout",
     "output_type": "stream",
     "text": [
      "Geçtiniz\n"
     ]
    }
   ],
   "source": [
    "ortalama=float(input(\"notunuzu giriniz:\"))\n",
    "print(\"Geçtiniz\"*(ortalama>=50) + \"Kaldınız\"*(ortalama<50))\n"
   ]
  },
  {
   "cell_type": "code",
   "execution_count": 22,
   "id": "a3f7103c-0ef8-40ea-bffb-8bd45587d7db",
   "metadata": {},
   "outputs": [
    {
     "name": "stdin",
     "output_type": "stream",
     "text": [
      "yaşınızı giriniz: 22\n"
     ]
    },
    {
     "name": "stdout",
     "output_type": "stream",
     "text": [
      "Ehliyet alabilirsiniz\n"
     ]
    }
   ],
   "source": [
    "yas=float(input(\"yaşınızı giriniz:\"))\n",
    "print(\"Ehliyet alabilirsiniz\"*(ortalama>=18) + \"Ehliyet alamazsınız\"*(ortalama<18))"
   ]
  },
  {
   "cell_type": "code",
   "execution_count": 24,
   "id": "7b0a1f7b-4db2-495a-bbcf-f3f56a082a73",
   "metadata": {},
   "outputs": [
    {
     "name": "stdin",
     "output_type": "stream",
     "text": [
      "ürünün fiyatını giriniz: 100\n",
      "indirim oranını giriniz: 25\n"
     ]
    },
    {
     "name": "stdout",
     "output_type": "stream",
     "text": [
      "indirimli fiyat:75.0\n"
     ]
    }
   ],
   "source": [
    "fiyat=float(input(\"ürünün fiyatını giriniz:\"))\n",
    "indirim_oranı=float(input(\"indirim oranını giriniz:\"))\n",
    "indirimli_fiyat= fiyat-fiyat*indirim_oranı/100\n",
    "print(f\"indirimli fiyat:{indirimli_fiyat}\")\n"
   ]
  },
  {
   "cell_type": "code",
   "execution_count": 28,
   "id": "9f44316c-1103-4d92-8a0d-26874aa7f597",
   "metadata": {},
   "outputs": [
    {
     "name": "stdout",
     "output_type": "stream",
     "text": [
      "(a OR b) OR (a AND b) AND (a OR b): True\n"
     ]
    }
   ],
   "source": [
    "a=True\n",
    "b=False\n",
    "print(\"(a OR b) OR (a AND b) AND (a OR b):\",(a or b) or (a and b) and (a or b))"
   ]
  },
  {
   "cell_type": "code",
   "execution_count": 32,
   "id": "b350125b-0707-44ec-bde8-e8fa11c8a55f",
   "metadata": {},
   "outputs": [
    {
     "name": "stdin",
     "output_type": "stream",
     "text": [
      "ürünün fiyatlarını aralarında boşluk bırakarak giriniz: 100 100 100\n"
     ]
    },
    {
     "name": "stdout",
     "output_type": "stream",
     "text": [
      "ödeme tutarı= 270.0\n"
     ]
    }
   ],
   "source": [
    "fiyat1, fiyat2, fiyat3 = input(\"ürünün fiyatlarını aralarında boşluk bırakarak giriniz:\").split()\n",
    "fiyat1=float(fiyat1)\n",
    "fiyat2=float(fiyat2)\n",
    "fiyat3=float(fiyat3)\n",
    "toplam=fiyat1+fiyat2+fiyat3\n",
    "son_fiyat=(toplam>200)*.9*(toplam)+(toplam<=200)*(toplam)\n",
    "print(f\"ödeme tutarı= {son_fiyat}\")\n"
   ]
  },
  {
   "cell_type": "code",
   "execution_count": 40,
   "id": "260c6092-d980-41a3-a162-6d33863daa9e",
   "metadata": {},
   "outputs": [
    {
     "name": "stdin",
     "output_type": "stream",
     "text": [
      "doğduğunuz yılı giriniz: 2006\n"
     ]
    },
    {
     "name": "stdout",
     "output_type": "stream",
     "text": [
      "Yetişkinsiniz\n"
     ]
    }
   ],
   "source": [
    "dogum_yili=int(input(\"doğduğunuz yılı giriniz:\"))\n",
    "yas=2025-dogum_yili\n",
    "mesaj=(\"Çocuksunuz\"*(0<=yas<=12)+\"Ergensiniz\"*(13<=yas<=17)+\"Yetişkinsiniz\"*(yas>=18))\n",
    "print(f\"{mesaj}\")\n",
    "\n"
   ]
  },
  {
   "cell_type": "code",
   "execution_count": null,
   "id": "db770b87-1d9a-4e12-8c62-889dc256d56b",
   "metadata": {},
   "outputs": [],
   "source": []
  },
  {
   "cell_type": "code",
   "execution_count": null,
   "id": "1fd1e285-004c-44e7-83ac-670c4bb4bddc",
   "metadata": {},
   "outputs": [],
   "source": []
  },
  {
   "cell_type": "code",
   "execution_count": null,
   "id": "a28209d7-e316-4233-b223-f2c2ce8ba4f6",
   "metadata": {},
   "outputs": [],
   "source": []
  }
 ],
 "metadata": {
  "kernelspec": {
   "display_name": "Python 3 (ipykernel)",
   "language": "python",
   "name": "python3"
  },
  "language_info": {
   "codemirror_mode": {
    "name": "ipython",
    "version": 3
   },
   "file_extension": ".py",
   "mimetype": "text/x-python",
   "name": "python",
   "nbconvert_exporter": "python",
   "pygments_lexer": "ipython3",
   "version": "3.13.5"
  }
 },
 "nbformat": 4,
 "nbformat_minor": 5
}
